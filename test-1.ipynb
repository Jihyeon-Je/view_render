{
 "cells": [
  {
   "cell_type": "code",
   "execution_count": 1,
   "metadata": {},
   "outputs": [],
   "source": [
    "import sys\n",
    "sys.path.append('./')\n",
    "from data_config import shapenet_rendering_path, total_view_nums\n",
    "import os\n",
    "from visualization.pc_painter import PC_from_DEP\n",
    "from data_config import camera_setting_path"
   ]
  },
  {
   "cell_type": "code",
   "execution_count": 2,
   "metadata": {},
   "outputs": [],
   "source": [
    "## for auto-reloading extenrnal modules\n",
    "# see http://stackoverflow.com/questions/1907993/autoreload-of-modules-in-ipython\n",
    "%load_ext autoreload\n",
    "%autoreload 2"
   ]
  },
  {
   "cell_type": "code",
   "execution_count": null,
   "metadata": {},
   "outputs": [],
   "source": [
    "#https://github.com/yinyunie/depth_renderer?tab=readme-ov-file"
   ]
  },
  {
   "cell_type": "code",
   "execution_count": 27,
   "metadata": {},
   "outputs": [
    {
     "ename": "",
     "evalue": "",
     "output_type": "error",
     "traceback": [
      "\u001b[1;31mThe Kernel crashed while executing code in the current cell or a previous cell. \n",
      "\u001b[1;31mPlease review the code in the cell(s) to identify a possible cause of the failure. \n",
      "\u001b[1;31mClick <a href='https://aka.ms/vscodeJupyterKernelCrash'>here</a> for more info. \n",
      "\u001b[1;31mView Jupyter <a href='command:jupyter.viewOutput'>log</a> for further details."
     ]
    }
   ],
   "source": [
    "depth_sample_dir = '/Users/jihyeonje/depth_renderer/datasets/ShapeNetRenderings/02691156/4e2769ec84c0bd0454eefcdc602d4520'\n",
    "n_views = 20\n",
    "assert n_views <= total_view_nums # there are total 20 views surrounding an object.\n",
    "view_ids = range(1, n_views+1)\n",
    "metadata_dir = os.path.join(shapenet_rendering_path, depth_sample_dir)\n",
    "pc_from_dep = PC_from_DEP(metadata_dir, camera_setting_path, view_ids, with_normal=True)\n",
    "#pc_from_dep.draw_depth(view='all')\n",
    "# pc_from_dep.draw_color(view='all')\n",
    "pc_from_dep.draw3D()"
   ]
  },
  {
   "cell_type": "code",
   "execution_count": 5,
   "metadata": {},
   "outputs": [],
   "source": [
    "import numpy as np"
   ]
  },
  {
   "cell_type": "code",
   "execution_count": 18,
   "metadata": {},
   "outputs": [
    {
     "ename": "TypeError",
     "evalue": "object of type 'PC_from_DEP' has no len()",
     "output_type": "error",
     "traceback": [
      "\u001b[0;31m---------------------------------------------------------------------------\u001b[0m",
      "\u001b[0;31mTypeError\u001b[0m                                 Traceback (most recent call last)",
      "\u001b[0;32m<ipython-input-18-f49a79fd581b>\u001b[0m in \u001b[0;36m<module>\u001b[0;34m\u001b[0m\n\u001b[0;32m----> 1\u001b[0;31m \u001b[0mlen\u001b[0m\u001b[0;34m(\u001b[0m\u001b[0mpc_from_dep\u001b[0m\u001b[0;34m)\u001b[0m\u001b[0;34m\u001b[0m\u001b[0;34m\u001b[0m\u001b[0m\n\u001b[0m",
      "\u001b[0;31mTypeError\u001b[0m: object of type 'PC_from_DEP' has no len()"
     ]
    }
   ],
   "source": [
    "len(pc_from_dep)"
   ]
  },
  {
   "cell_type": "code",
   "execution_count": 25,
   "metadata": {},
   "outputs": [
    {
     "name": "stderr",
     "output_type": "stream",
     "text": [
      "/Users/jihyeonje/opt/anaconda3/envs/joint/lib/python3.7/site-packages/ipykernel_launcher.py:3: VisibleDeprecationWarning:\n",
      "\n",
      "Creating an ndarray from ragged nested sequences (which is a list-or-tuple of lists-or-tuples-or ndarrays with different lengths or shapes) is deprecated. If you meant to do this, you must specify 'dtype=object' when creating the ndarray.\n",
      "\n"
     ]
    }
   ],
   "source": [
    "tot = 0\n",
    "for i in range(20):\n",
    "    tot += len(np.array(pc_from_dep._point_clouds['pc'])[i])"
   ]
  },
  {
   "cell_type": "code",
   "execution_count": 26,
   "metadata": {},
   "outputs": [
    {
     "data": {
      "text/plain": [
       "186670"
      ]
     },
     "execution_count": 26,
     "metadata": {},
     "output_type": "execute_result"
    }
   ],
   "source": [
    "tot"
   ]
  },
  {
   "cell_type": "code",
   "execution_count": 6,
   "metadata": {},
   "outputs": [],
   "source": [
    "pc_from_dep = PC_from_DEP(metadata_dir, camera_setting_path, view_ids, with_normal=True)"
   ]
  },
  {
   "cell_type": "code",
   "execution_count": null,
   "metadata": {},
   "outputs": [],
   "source": [
    "def set_points_property(self, point_cloud_dict):\n",
    "    point_clouds = point_cloud_dict['pc']\n",
    "    point_colors = point_cloud_dict['color']\n",
    "\n",
    "    points = vtk.vtkPoints()\n",
    "    vertices = vtk.vtkCellArray()\n",
    "    colors = vtk.vtkUnsignedCharArray()\n",
    "    colors.SetNumberOfComponents(3)\n",
    "    colors.SetName('Color')\n",
    "\n",
    "    for point_cloud, point_color in zip(point_clouds, point_colors):\n",
    "        x3 = point_cloud[:, 0]\n",
    "        y3 = point_cloud[:, 1]\n",
    "        z3 = point_cloud[:, 2]\n",
    "\n",
    "        for x, y, z, c in zip(x3, y3, z3, point_color):\n",
    "            id = points.InsertNextPoint([x, y, z])\n",
    "            colors.InsertNextTuple3(*c)\n",
    "            vertices.InsertNextCell(1)\n",
    "            vertices.InsertCellPoint(id)\n",
    "return vertices"
   ]
  },
  {
   "cell_type": "code",
   "execution_count": 21,
   "metadata": {},
   "outputs": [
    {
     "data": {
      "text/plain": [
       "186670"
      ]
     },
     "execution_count": 21,
     "metadata": {},
     "output_type": "execute_result"
    }
   ],
   "source": [
    "len(numpy_nodes)"
   ]
  },
  {
   "cell_type": "code",
   "execution_count": 7,
   "metadata": {},
   "outputs": [],
   "source": [
    "pt = pc_from_dep.set_points_property(pc_from_dep._point_clouds)"
   ]
  },
  {
   "cell_type": "code",
   "execution_count": 10,
   "metadata": {},
   "outputs": [],
   "source": [
    "points = pt.GetPoints()\n",
    "array = points.GetData()\n",
    "numpy_nodes = vtk_to_numpy(array)"
   ]
  },
  {
   "cell_type": "code",
   "execution_count": 9,
   "metadata": {},
   "outputs": [],
   "source": [
    "from vtk.util.numpy_support import vtk_to_numpy\n",
    "numpy_nodes = vtk_to_numpy(array)"
   ]
  },
  {
   "cell_type": "code",
   "execution_count": 11,
   "metadata": {},
   "outputs": [
    {
     "data": {
      "text/plain": [
       "(186670, 3)"
      ]
     },
     "execution_count": 11,
     "metadata": {},
     "output_type": "execute_result"
    }
   ],
   "source": [
    "numpy_nodes.shape"
   ]
  },
  {
   "cell_type": "code",
   "execution_count": null,
   "metadata": {},
   "outputs": [],
   "source": [
    "import plotly.graph_objects as go\n",
    "import numpy as np\n",
    "\n",
    "\n",
    "\n",
    "fig = go.Figure(data=[go.Scatter3d(x=numpy_nodes[:,0], y=numpy_nodes[:,1], z=numpy_nodes[:,2],\n",
    "                                   mode='markers',\n",
    "                                    marker=dict(\n",
    "                                        size=0.5,\n",
    "                                          # choose a colorscale\n",
    "                                        opacity=0.8)\n",
    "                                    )])\n",
    "\n",
    "fig.update_scenes(aspectmode='data')\n",
    "fig.show()"
   ]
  },
  {
   "cell_type": "code",
   "execution_count": null,
   "metadata": {},
   "outputs": [],
   "source": [
    "\n",
    "pc_from_dep.draw_color(view='all')"
   ]
  },
  {
   "cell_type": "code",
   "execution_count": null,
   "metadata": {},
   "outputs": [],
   "source": [
    "pc_from_dep.draw3D()"
   ]
  },
  {
   "cell_type": "code",
   "execution_count": null,
   "metadata": {},
   "outputs": [],
   "source": [
    "images_paths = ['/Users/jihyeonje/depth_renderer/segres/view0.png', '/Users/jihyeonje/depth_renderer/segres/view1.png',  '/Users/jihyeonje/depth_renderer/segres/view2.png', \n",
    "               '/Users/jihyeonje/depth_renderer/segres/view3.png',  '/Users/jihyeonje/depth_renderer/segres/view4.png', '/Users/jihyeonje/depth_renderer/segres/view5.png', \n",
    "               '/Users/jihyeonje/depth_renderer/segres/view6.png', '/Users/jihyeonje/depth_renderer/segres/view7.png']"
   ]
  },
  {
   "cell_type": "code",
   "execution_count": null,
   "metadata": {},
   "outputs": [],
   "source": [
    "curr_save_dir = '/Users/jihyeonje/depth_renderer/datasets/ShapeNetRenderings/02691156/1a54a2319e87bd4071d03b466c72ce41'"
   ]
  },
  {
   "cell_type": "code",
   "execution_count": null,
   "metadata": {},
   "outputs": [],
   "source": [
    "image.resize(512,512)"
   ]
  },
  {
   "cell_type": "code",
   "execution_count": null,
   "metadata": {},
   "outputs": [],
   "source": [
    "import numpy as np"
   ]
  },
  {
   "cell_type": "code",
   "execution_count": null,
   "metadata": {},
   "outputs": [],
   "source": [
    "import matplotlib.pyplot as plt\n",
    "\n",
    "plt.imshow(np.array(image)[:,:,2])"
   ]
  },
  {
   "cell_type": "code",
   "execution_count": 2,
   "metadata": {},
   "outputs": [
    {
     "data": {
      "text/plain": [
       "array([[[255, 255, 255],\n",
       "        [255, 255, 255],\n",
       "        [255, 255, 255],\n",
       "        ...,\n",
       "        [175, 186, 208],\n",
       "        [175, 186, 208],\n",
       "        [174, 185, 207]],\n",
       "\n",
       "       [[192, 214, 228],\n",
       "        [192, 214, 228],\n",
       "        [192, 214, 228],\n",
       "        ...,\n",
       "        [129, 139, 174],\n",
       "        [128, 138, 173],\n",
       "        [128, 138, 173]],\n",
       "\n",
       "       [[191, 214, 230],\n",
       "        [191, 214, 230],\n",
       "        [191, 214, 230],\n",
       "        ...,\n",
       "        [128, 141, 176],\n",
       "        [127, 140, 175],\n",
       "        [126, 139, 174]],\n",
       "\n",
       "       ...,\n",
       "\n",
       "       [[110,  96,  51],\n",
       "        [ 98,  84,  39],\n",
       "        [ 86,  72,  25],\n",
       "        ...,\n",
       "        [106,  91,  70],\n",
       "        [105,  90,  71],\n",
       "        [104,  89,  70]],\n",
       "\n",
       "       [[110,  96,  51],\n",
       "        [100,  86,  41],\n",
       "        [ 89,  75,  28],\n",
       "        ...,\n",
       "        [107,  90,  70],\n",
       "        [107,  90,  70],\n",
       "        [109,  92,  72]],\n",
       "\n",
       "       [[108,  94,  49],\n",
       "        [100,  86,  41],\n",
       "        [ 90,  76,  29],\n",
       "        ...,\n",
       "        [105,  88,  68],\n",
       "        [106,  89,  69],\n",
       "        [109,  94,  75]]], dtype=uint8)"
      ]
     },
     "execution_count": 2,
     "metadata": {},
     "output_type": "execute_result"
    }
   ],
   "source": [
    "import matplotlib.pyplot as plt\n",
    "plt.imread(\"/Users/jihyeonje/depth_renderer/crane_test.jpg\")"
   ]
  },
  {
   "cell_type": "code",
   "execution_count": null,
   "metadata": {},
   "outputs": [],
   "source": [
    "image = Image.open('/Users/jihyeonje/depth_renderer/datasets/ShapeNetRenderings/02691156/1a54a2319e87bd4071d03b466c72ce41/color_005.png')"
   ]
  },
  {
   "cell_type": "code",
   "execution_count": null,
   "metadata": {},
   "outputs": [],
   "source": [
    "images_paths = ['/Users/jihyeonje/depth_renderer/segres/view0.png', '/Users/jihyeonje/depth_renderer/segres/view1.png',  '/Users/jihyeonje/depth_renderer/segres/view2.png', \n",
    "               '/Users/jihyeonje/depth_renderer/segres/view3.png',  '/Users/jihyeonje/depth_renderer/segres/view4.png', '/Users/jihyeonje/depth_renderer/segres/view5.png', \n",
    "               '/Users/jihyeonje/depth_renderer/segres/view6.png', '/Users/jihyeonje/depth_renderer/segres/view7.png']"
   ]
  },
  {
   "cell_type": "code",
   "execution_count": null,
   "metadata": {},
   "outputs": [],
   "source": [
    "np.unique(image)"
   ]
  },
  {
   "cell_type": "code",
   "execution_count": null,
   "metadata": {},
   "outputs": [],
   "source": [
    "def lbl2rgb(image):\n",
    "    rgbArray = np.zeros((512,512,3), 'uint8')\n",
    "    image = np.array(image)\n",
    "    for i in range(512):\n",
    "        for r in range(512):\n",
    "            red = image[i][r][2]\n",
    "            blue = image[i][r][1]\n",
    "            green = image[i][r][0]\n",
    "            if red == 0: \n",
    "                rgbArray[i][r][0] = 255\n",
    "                rgbArray[i][r][1] = 0\n",
    "                rgbArray[i][r][2] = 0\n",
    "            if blue == 0: \n",
    "                rgbArray[i][r][0] = 0\n",
    "                rgbArray[i][r][1] = 0\n",
    "                rgbArray[i][r][2] = 255\n",
    "            if green == 255: \n",
    "                rgbArray[i][r][0] = 0\n",
    "                rgbArray[i][r][1] = 255\n",
    "                rgbArray[i][r][2] = 0\n",
    "    return rgbArray"
   ]
  },
  {
   "cell_type": "code",
   "execution_count": null,
   "metadata": {},
   "outputs": [],
   "source": [
    "plt.imshow(np.array(image)[:,:,:3])"
   ]
  },
  {
   "cell_type": "code",
   "execution_count": null,
   "metadata": {},
   "outputs": [],
   "source": [
    "\n",
    "lbl2rgb(image)"
   ]
  },
  {
   "cell_type": "code",
   "execution_count": null,
   "metadata": {},
   "outputs": [],
   "source": [
    "np.unique(np.array(image)[:,:,2], return_counts=True)"
   ]
  },
  {
   "cell_type": "code",
   "execution_count": null,
   "metadata": {},
   "outputs": [],
   "source": [
    "plt.imshow(np.array(image)[:,:,1])"
   ]
  },
  {
   "cell_type": "code",
   "execution_count": null,
   "metadata": {},
   "outputs": [],
   "source": [
    "np.unique(image)"
   ]
  },
  {
   "cell_type": "code",
   "execution_count": null,
   "metadata": {},
   "outputs": [],
   "source": [
    "from PIL import Image\n",
    "\n",
    "j = 1\n",
    "for pth in images_paths:\n",
    "    print(pth)\n",
    "    image = Image.open(pth)\n",
    "    print(f\"Original size : {image.size}\") # 5464x3640\n",
    "\n",
    "    sunset_resized = image.resize((512, 512))\n",
    "    \n",
    "    sunset_resized = np.array(sunset_resized)[:,:,:3]\n",
    "    \n",
    "    sunset_resized = Image.fromarray(sunset_resized)\n",
    "\n",
    "    \n",
    "    fname = os.path.join(curr_save_dir, \"color_00\" + str(j) + \".png\")\n",
    "    sunset_resized.save(fname)\n",
    "    j+=1"
   ]
  },
  {
   "cell_type": "code",
   "execution_count": null,
   "metadata": {},
   "outputs": [],
   "source": [
    "plt.imshow(s)"
   ]
  },
  {
   "cell_type": "code",
   "execution_count": null,
   "metadata": {},
   "outputs": [],
   "source": [
    "from PIL import Image\n",
    "import numpy as np\n",
    "rgbArray = np.zeros((512,512,3), 'uint8')\n",
    "for i in range()\n",
    "rgbArray[..., 0] = r*256\n",
    "rgbArray[..., 1] = g*256\n",
    "rgbArray[..., 2] = b*256\n",
    "img = Image.fromarray(rgbArray)\n",
    "img.save('myimg.jpeg')"
   ]
  },
  {
   "cell_type": "code",
   "execution_count": null,
   "metadata": {},
   "outputs": [],
   "source": [
    " Red: RGB(255,0,0) \n",
    " Yellow: (255,255,0)\n",
    " Green: RGB(0,255,0) Blue: RGB(0,0,255)"
   ]
  },
  {
   "cell_type": "code",
   "execution_count": null,
   "metadata": {},
   "outputs": [],
   "source": [
    "from skimage.segmentation import join_segmentations\n",
    "s1 = np.array([[0, 0, 1, 1],\n",
    "               [0, 2, 1, 1],\n",
    "               [2, 2, 2, 1]])\n",
    "s2 = np.array([[0, 1, 1, 0],\n",
    "               [0, 1, 1, 0],\n",
    "               [0, 1, 1, 1]])\n",
    "join_segmentations(s1, s2)\n",
    "\n"
   ]
  },
  {
   "cell_type": "code",
   "execution_count": null,
   "metadata": {},
   "outputs": [],
   "source": [
    "np.sum(np.array(s)[:,:,0]-np.array(s)[:,:,1])"
   ]
  },
  {
   "cell_type": "code",
   "execution_count": null,
   "metadata": {},
   "outputs": [],
   "source": [
    "plt.imshow(s)"
   ]
  },
  {
   "cell_type": "code",
   "execution_count": null,
   "metadata": {},
   "outputs": [],
   "source": [
    "s = Image.open('/Users/jihyeonje/depth_renderer/datasets/ShapeNetRenderings/02691156/1a888c2c86248bbcf2b0736dd4d8afe0/color_002.png')\n",
    "np.array(s)"
   ]
  },
  {
   "cell_type": "code",
   "execution_count": null,
   "metadata": {},
   "outputs": [],
   "source": [
    "from PIL import Image\n",
    "\n",
    "j = 1\n",
    "for pth in images_paths:\n",
    "    image = Image.open(pth)\n",
    "    print(f\"Original size : {image.size}\") # 5464x3640\n",
    "\n",
    "    sunset_resized = image.resize((512, 512))\n",
    "    fname = os.path.join(curr_save_dir, \"color_00\" + str(j) + \".png\")\n",
    "    sunset_resized.save(fname)\n",
    "    j+=1"
   ]
  },
  {
   "cell_type": "code",
   "execution_count": null,
   "metadata": {},
   "outputs": [],
   "source": [
    "import numpy as np"
   ]
  },
  {
   "cell_type": "code",
   "execution_count": null,
   "metadata": {},
   "outputs": [],
   "source": [
    "np.array(pc_from_dep._point_clouds['color']).shape"
   ]
  },
  {
   "cell_type": "code",
   "execution_count": null,
   "metadata": {},
   "outputs": [],
   "source": [
    " def set_camera(self, position, focal_point, cam_K):"
   ]
  },
  {
   "cell_type": "code",
   "execution_count": null,
   "metadata": {},
   "outputs": [],
   "source": []
  }
 ],
 "metadata": {
  "kernelspec": {
   "display_name": "render2",
   "language": "python",
   "name": "python3"
  },
  "language_info": {
   "codemirror_mode": {
    "name": "ipython",
    "version": 3
   },
   "file_extension": ".py",
   "mimetype": "text/x-python",
   "name": "python",
   "nbconvert_exporter": "python",
   "pygments_lexer": "ipython3",
   "version": "3.7.12"
  }
 },
 "nbformat": 4,
 "nbformat_minor": 2
}
